{
 "cells": [
  {
   "cell_type": "markdown",
   "metadata": {},
   "source": [
    "A script to get the latest episodes of tv shows that I am watching and update me of any new episodes.\n",
    "\n",
    "Going to be a cloud function that runs every wednesday and saturday"
   ]
  },
  {
   "cell_type": "code",
   "execution_count": 1,
   "metadata": {},
   "outputs": [],
   "source": [
    "import bs4 as bs\n",
    "import requests\n",
    "import urllib.request"
   ]
  },
  {
   "cell_type": "code",
   "execution_count": 2,
   "metadata": {},
   "outputs": [],
   "source": [
    "def get_recent_series(url):\n",
    "    headers = {'User-Agent': 'Mozilla/5.0 (Macintosh; Intel Mac OS X 10_13_6) AppleWebKit/537.36 (KHTML, like Gecko) Chrome/70.0.3538.77 Safari/537.36'}\n",
    "    page = requests.get(series_url, headers=headers)\n",
    "    \n",
    "    soup = bs.BeautifulSoup(page.text)\n",
    "    divs = soup.find('div', {'class': 'data_list'})\n",
    "    \n",
    "    series = divs.text.replace('\\n\\t\\n',',')\n",
    "    recent_series = series.split(\",\")\n",
    "    \n",
    "    return recent_series"
   ]
  },
  {
   "cell_type": "code",
   "execution_count": 7,
   "metadata": {},
   "outputs": [],
   "source": [
    "#returns a dictionary of the tv show and if present, the present tv episode\n",
    "def get_report(recent_series, series_beingwatched):\n",
    "    report_dict = {}\n",
    "    for series in series_beingwatched:\n",
    "        matching = [s for s in recent_series if series in s]\n",
    "        report_dict[series] = matching\n",
    "        print(matching)\n",
    "        \n",
    "    return report_dict"
   ]
  },
  {
   "cell_type": "code",
   "execution_count": 4,
   "metadata": {},
   "outputs": [],
   "source": [
    "series_url = 'https://o2tvseries.com/search/recently_added'\n",
    "series_being_watches = ['MacGyver', 'Magnum PI', 'Lucifer']\n",
    "\n",
    "series = get_recent_series(series_url)"
   ]
  },
  {
   "cell_type": "code",
   "execution_count": 9,
   "metadata": {},
   "outputs": [
    {
     "name": "stdout",
     "output_type": "stream",
     "text": [
      "['\\nMacGyver - Season 05 -  Episode 04 - [09/01]']\n",
      "['\\nMagnum PI - Season 03 -  Episode 04 - [09/01]']\n",
      "[]\n"
     ]
    },
    {
     "data": {
      "text/plain": [
       "{'MacGyver': ['\\nMacGyver - Season 05 -  Episode 04 - [09/01]'],\n",
       " 'Magnum PI': ['\\nMagnum PI - Season 03 -  Episode 04 - [09/01]'],\n",
       " 'Lucifer': []}"
      ]
     },
     "execution_count": 9,
     "metadata": {},
     "output_type": "execute_result"
    }
   ],
   "source": [
    "report = get_report(series,series_being_watches )\n",
    "\n",
    "report"
   ]
  },
  {
   "cell_type": "markdown",
   "metadata": {},
   "source": [
    "api options\n",
    "https://github.com/Nexmo/nexmo-python"
   ]
  }
 ],
 "metadata": {
  "kernelspec": {
   "display_name": "Python 3",
   "language": "python",
   "name": "python3"
  },
  "language_info": {
   "codemirror_mode": {
    "name": "ipython",
    "version": 3
   },
   "file_extension": ".py",
   "mimetype": "text/x-python",
   "name": "python",
   "nbconvert_exporter": "python",
   "pygments_lexer": "ipython3",
   "version": "3.8.5"
  }
 },
 "nbformat": 4,
 "nbformat_minor": 4
}
